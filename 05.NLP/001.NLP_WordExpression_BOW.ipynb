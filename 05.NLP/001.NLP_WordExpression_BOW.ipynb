{
  "nbformat": 4,
  "nbformat_minor": 0,
  "metadata": {
    "colab": {
      "provenance": [],
      "authorship_tag": "ABX9TyMgWN+MmeFbEefg7wFJugHM",
      "include_colab_link": true
    },
    "kernelspec": {
      "name": "python3",
      "display_name": "Python 3"
    },
    "language_info": {
      "name": "python"
    }
  },
  "cells": [
    {
      "cell_type": "markdown",
      "metadata": {
        "id": "view-in-github",
        "colab_type": "text"
      },
      "source": [
        "<a href=\"https://colab.research.google.com/github/baikAnalyst/Seoul_Software_Academy/blob/main/05.NLP/NLP_WordExpression_BOW.ipynb\" target=\"_parent\"><img src=\"https://colab.research.google.com/assets/colab-badge.svg\" alt=\"Open In Colab\"/></a>"
      ]
    },
    {
      "cell_type": "markdown",
      "source": [
        "# BoW : Bag of Words\n",
        "ignore the order of appearance and express words as per frequency\n",
        "\n",
        "\n"
      ],
      "metadata": {
        "id": "Wp8_y4mjwUmo"
      }
    },
    {
      "cell_type": "code",
      "execution_count": 2,
      "metadata": {
        "id": "JXfHs834wHzs"
      },
      "outputs": [],
      "source": [
        "docs = ['오늘 동물원에서 코끼리 원숭이를 보고 코끼리 원숭이에게 먹이를 줬어',\n",
        "            '오늘 동물원에서 원숭이에게 사과를 줬어']"
      ]
    },
    {
      "cell_type": "markdown",
      "source": [
        "## 1. tokenize by space"
      ],
      "metadata": {
        "id": "K_Z9dho2wiI4"
      }
    },
    {
      "cell_type": "code",
      "source": [
        "doc_ls = [doc.split(' ') for doc in docs]\n",
        "doc_ls"
      ],
      "metadata": {
        "colab": {
          "base_uri": "https://localhost:8080/"
        },
        "id": "Tye04e-VwojL",
        "outputId": "163d5852-c516-4735-b71a-3af1874bdc79"
      },
      "execution_count": 3,
      "outputs": [
        {
          "output_type": "execute_result",
          "data": {
            "text/plain": [
              "[['오늘', '동물원에서', '코끼리', '원숭이를', '보고', '코끼리', '원숭이에게', '먹이를', '줬어'],\n",
              " ['오늘', '동물원에서', '원숭이에게', '사과를', '줬어']]"
            ]
          },
          "metadata": {},
          "execution_count": 3
        }
      ]
    },
    {
      "cell_type": "markdown",
      "source": [
        "## 2. dictionary of unique token\n",
        "      2-1. generate empty dictionary"
      ],
      "metadata": {
        "id": "tigIo0Edw64Z"
      }
    },
    {
      "cell_type": "code",
      "source": [
        "from collections import defaultdict\n",
        "\n",
        "#word2id is to insert unique tokens to empty dictionary\n",
        "word2id = defaultdict(lambda : len(word2id))\n",
        "word2id"
      ],
      "metadata": {
        "colab": {
          "base_uri": "https://localhost:8080/"
        },
        "id": "RafK6KzDwofc",
        "outputId": "9bd5ced1-751e-43f1-d093-d3ad27223fb6"
      },
      "execution_count": 4,
      "outputs": [
        {
          "output_type": "execute_result",
          "data": {
            "text/plain": [
              "defaultdict(<function __main__.<lambda>()>, {})"
            ]
          },
          "metadata": {},
          "execution_count": 4
        }
      ]
    },
    {
      "cell_type": "markdown",
      "source": [
        "    2-2. insert unique tokens in empty dictonary"
      ],
      "metadata": {
        "id": "YDP0vSzEy0pS"
      }
    },
    {
      "cell_type": "code",
      "source": [
        "for doc in doc_ls:\n",
        "    print(doc)"
      ],
      "metadata": {
        "colab": {
          "base_uri": "https://localhost:8080/"
        },
        "id": "LS32cfW1y73i",
        "outputId": "7bde727b-18a4-4a00-eb37-682e4a4f5899"
      },
      "execution_count": 6,
      "outputs": [
        {
          "output_type": "stream",
          "name": "stdout",
          "text": [
            "['오늘', '동물원에서', '코끼리', '원숭이를', '보고', '코끼리', '원숭이에게', '먹이를', '줬어']\n",
            "['오늘', '동물원에서', '원숭이에게', '사과를', '줬어']\n"
          ]
        }
      ]
    },
    {
      "cell_type": "code",
      "source": [
        "for doc in doc_ls:\n",
        "    print(doc)\n",
        "    for token in doc:\n",
        "        word2id[token]\n",
        "        print(token)"
      ],
      "metadata": {
        "colab": {
          "base_uri": "https://localhost:8080/"
        },
        "id": "gUFJkAHezA8W",
        "outputId": "6a573190-424a-4ff7-eae5-c81ed724cb04"
      },
      "execution_count": 7,
      "outputs": [
        {
          "output_type": "stream",
          "name": "stdout",
          "text": [
            "['오늘', '동물원에서', '코끼리', '원숭이를', '보고', '코끼리', '원숭이에게', '먹이를', '줬어']\n",
            "오늘\n",
            "동물원에서\n",
            "코끼리\n",
            "원숭이를\n",
            "보고\n",
            "코끼리\n",
            "원숭이에게\n",
            "먹이를\n",
            "줬어\n",
            "['오늘', '동물원에서', '원숭이에게', '사과를', '줬어']\n",
            "오늘\n",
            "동물원에서\n",
            "원숭이에게\n",
            "사과를\n",
            "줬어\n"
          ]
        }
      ]
    },
    {
      "cell_type": "code",
      "source": [
        "for doc in doc_ls:\n",
        "    print(doc)\n",
        "    for token in doc:\n",
        "        word2id[token]\n",
        "        print(token)\n",
        "        print('\\t', word2id)"
      ],
      "metadata": {
        "colab": {
          "base_uri": "https://localhost:8080/"
        },
        "id": "9WTkdUBgzKs0",
        "outputId": "d2a81081-d6db-4ff6-9a24-c46b387c2ea7"
      },
      "execution_count": 8,
      "outputs": [
        {
          "output_type": "stream",
          "name": "stdout",
          "text": [
            "['오늘', '동물원에서', '코끼리', '원숭이를', '보고', '코끼리', '원숭이에게', '먹이를', '줬어']\n",
            "오늘\n",
            "\t defaultdict(<function <lambda> at 0x7fa35c41add0>, {'오늘': 0, '동물원에서': 1, '코끼리': 2, '원숭이를': 3, '보고': 4, '원숭이에게': 5, '먹이를': 6, '줬어': 7, '사과를': 8})\n",
            "동물원에서\n",
            "\t defaultdict(<function <lambda> at 0x7fa35c41add0>, {'오늘': 0, '동물원에서': 1, '코끼리': 2, '원숭이를': 3, '보고': 4, '원숭이에게': 5, '먹이를': 6, '줬어': 7, '사과를': 8})\n",
            "코끼리\n",
            "\t defaultdict(<function <lambda> at 0x7fa35c41add0>, {'오늘': 0, '동물원에서': 1, '코끼리': 2, '원숭이를': 3, '보고': 4, '원숭이에게': 5, '먹이를': 6, '줬어': 7, '사과를': 8})\n",
            "원숭이를\n",
            "\t defaultdict(<function <lambda> at 0x7fa35c41add0>, {'오늘': 0, '동물원에서': 1, '코끼리': 2, '원숭이를': 3, '보고': 4, '원숭이에게': 5, '먹이를': 6, '줬어': 7, '사과를': 8})\n",
            "보고\n",
            "\t defaultdict(<function <lambda> at 0x7fa35c41add0>, {'오늘': 0, '동물원에서': 1, '코끼리': 2, '원숭이를': 3, '보고': 4, '원숭이에게': 5, '먹이를': 6, '줬어': 7, '사과를': 8})\n",
            "코끼리\n",
            "\t defaultdict(<function <lambda> at 0x7fa35c41add0>, {'오늘': 0, '동물원에서': 1, '코끼리': 2, '원숭이를': 3, '보고': 4, '원숭이에게': 5, '먹이를': 6, '줬어': 7, '사과를': 8})\n",
            "원숭이에게\n",
            "\t defaultdict(<function <lambda> at 0x7fa35c41add0>, {'오늘': 0, '동물원에서': 1, '코끼리': 2, '원숭이를': 3, '보고': 4, '원숭이에게': 5, '먹이를': 6, '줬어': 7, '사과를': 8})\n",
            "먹이를\n",
            "\t defaultdict(<function <lambda> at 0x7fa35c41add0>, {'오늘': 0, '동물원에서': 1, '코끼리': 2, '원숭이를': 3, '보고': 4, '원숭이에게': 5, '먹이를': 6, '줬어': 7, '사과를': 8})\n",
            "줬어\n",
            "\t defaultdict(<function <lambda> at 0x7fa35c41add0>, {'오늘': 0, '동물원에서': 1, '코끼리': 2, '원숭이를': 3, '보고': 4, '원숭이에게': 5, '먹이를': 6, '줬어': 7, '사과를': 8})\n",
            "['오늘', '동물원에서', '원숭이에게', '사과를', '줬어']\n",
            "오늘\n",
            "\t defaultdict(<function <lambda> at 0x7fa35c41add0>, {'오늘': 0, '동물원에서': 1, '코끼리': 2, '원숭이를': 3, '보고': 4, '원숭이에게': 5, '먹이를': 6, '줬어': 7, '사과를': 8})\n",
            "동물원에서\n",
            "\t defaultdict(<function <lambda> at 0x7fa35c41add0>, {'오늘': 0, '동물원에서': 1, '코끼리': 2, '원숭이를': 3, '보고': 4, '원숭이에게': 5, '먹이를': 6, '줬어': 7, '사과를': 8})\n",
            "원숭이에게\n",
            "\t defaultdict(<function <lambda> at 0x7fa35c41add0>, {'오늘': 0, '동물원에서': 1, '코끼리': 2, '원숭이를': 3, '보고': 4, '원숭이에게': 5, '먹이를': 6, '줬어': 7, '사과를': 8})\n",
            "사과를\n",
            "\t defaultdict(<function <lambda> at 0x7fa35c41add0>, {'오늘': 0, '동물원에서': 1, '코끼리': 2, '원숭이를': 3, '보고': 4, '원숭이에게': 5, '먹이를': 6, '줬어': 7, '사과를': 8})\n",
            "줬어\n",
            "\t defaultdict(<function <lambda> at 0x7fa35c41add0>, {'오늘': 0, '동물원에서': 1, '코끼리': 2, '원숭이를': 3, '보고': 4, '원숭이에게': 5, '먹이를': 6, '줬어': 7, '사과를': 8})\n"
          ]
        }
      ]
    },
    {
      "cell_type": "code",
      "source": [
        "word2id"
      ],
      "metadata": {
        "colab": {
          "base_uri": "https://localhost:8080/"
        },
        "id": "XZeglDbGzRP0",
        "outputId": "1e2a9a6b-e07a-4345-efcd-0c5739f4e025"
      },
      "execution_count": 9,
      "outputs": [
        {
          "output_type": "execute_result",
          "data": {
            "text/plain": [
              "defaultdict(<function __main__.<lambda>()>,\n",
              "            {'오늘': 0,\n",
              "             '동물원에서': 1,\n",
              "             '코끼리': 2,\n",
              "             '원숭이를': 3,\n",
              "             '보고': 4,\n",
              "             '원숭이에게': 5,\n",
              "             '먹이를': 6,\n",
              "             '줬어': 7,\n",
              "             '사과를': 8})"
            ]
          },
          "metadata": {},
          "execution_count": 9
        }
      ]
    },
    {
      "cell_type": "markdown",
      "source": [
        "## 3. BoW"
      ],
      "metadata": {
        "id": "mD7hrs1n0tYY"
      }
    },
    {
      "cell_type": "code",
      "source": [
        "import numpy as np\n",
        "# BoW_ls =[]\n",
        "for i, odc in enumerate(doc_ls):\n",
        "    bow = np.zeros(len(word2id), dtype = int)\n",
        "    print(bow)  # 2 x 8"
      ],
      "metadata": {
        "colab": {
          "base_uri": "https://localhost:8080/"
        },
        "id": "-1LuDl5K0mOq",
        "outputId": "d276f448-45b0-43a4-ab72-8d394ab399e7"
      },
      "execution_count": 10,
      "outputs": [
        {
          "output_type": "stream",
          "name": "stdout",
          "text": [
            "[0 0 0 0 0 0 0 0 0]\n",
            "[0 0 0 0 0 0 0 0 0]\n"
          ]
        }
      ]
    },
    {
      "cell_type": "code",
      "source": [
        "import numpy as np\n",
        "BoW_ls =[]\n",
        "for i, doc in enumerate(doc_ls):\n",
        "    bow = np.zeros(len(word2id), dtype = int)\n",
        "    print(bow)\n",
        "    for token in doc:\n",
        "        print(token)\n",
        "    #     bow[word2id[token]] +=1\n",
        "    #     print(token, '=>', bow)\n",
        "    # BoW_ls.append(bow.tolist())"
      ],
      "metadata": {
        "colab": {
          "base_uri": "https://localhost:8080/"
        },
        "id": "6qNe6r_r1XPu",
        "outputId": "306ddbac-7ecf-4847-a6dd-f84336fe48b0"
      },
      "execution_count": 11,
      "outputs": [
        {
          "output_type": "stream",
          "name": "stdout",
          "text": [
            "[0 0 0 0 0 0 0 0 0]\n",
            "오늘\n",
            "동물원에서\n",
            "코끼리\n",
            "원숭이를\n",
            "보고\n",
            "코끼리\n",
            "원숭이에게\n",
            "먹이를\n",
            "줬어\n",
            "[0 0 0 0 0 0 0 0 0]\n",
            "오늘\n",
            "동물원에서\n",
            "원숭이에게\n",
            "사과를\n",
            "줬어\n"
          ]
        }
      ]
    },
    {
      "cell_type": "code",
      "source": [
        "import numpy as np\n",
        "BoW_ls =[]\n",
        "for i, doc in enumerate(doc_ls):\n",
        "    bow = np.zeros(len(word2id), dtype = int)\n",
        "    print(bow)\n",
        "    for token in doc:\n",
        "        print(token)\n",
        "        bow[word2id[token]] +=1\n",
        "        print(token, '=>', bow)\n",
        "    BoW_ls.append(bow.tolist())\n",
        "\n",
        "# {'오늘': 0, '동물원에서': 1, '코끼리': 2, '원숭이를': 3, '보고': 4,\n",
        "#  '원숭이에게': 5, '먹이를': 6, '줬어': 7, '사과를': 8}"
      ],
      "metadata": {
        "colab": {
          "base_uri": "https://localhost:8080/"
        },
        "id": "LEE4gZjf79dC",
        "outputId": "260a6e59-a86b-44b1-f78b-d88ec7e737a4"
      },
      "execution_count": 12,
      "outputs": [
        {
          "output_type": "stream",
          "name": "stdout",
          "text": [
            "[0 0 0 0 0 0 0 0 0]\n",
            "오늘\n",
            "오늘 => [1 0 0 0 0 0 0 0 0]\n",
            "동물원에서\n",
            "동물원에서 => [1 1 0 0 0 0 0 0 0]\n",
            "코끼리\n",
            "코끼리 => [1 1 1 0 0 0 0 0 0]\n",
            "원숭이를\n",
            "원숭이를 => [1 1 1 1 0 0 0 0 0]\n",
            "보고\n",
            "보고 => [1 1 1 1 1 0 0 0 0]\n",
            "코끼리\n",
            "코끼리 => [1 1 2 1 1 0 0 0 0]\n",
            "원숭이에게\n",
            "원숭이에게 => [1 1 2 1 1 1 0 0 0]\n",
            "먹이를\n",
            "먹이를 => [1 1 2 1 1 1 1 0 0]\n",
            "줬어\n",
            "줬어 => [1 1 2 1 1 1 1 1 0]\n",
            "[0 0 0 0 0 0 0 0 0]\n",
            "오늘\n",
            "오늘 => [1 0 0 0 0 0 0 0 0]\n",
            "동물원에서\n",
            "동물원에서 => [1 1 0 0 0 0 0 0 0]\n",
            "원숭이에게\n",
            "원숭이에게 => [1 1 0 0 0 1 0 0 0]\n",
            "사과를\n",
            "사과를 => [1 1 0 0 0 1 0 0 1]\n",
            "줬어\n",
            "줬어 => [1 1 0 0 0 1 0 1 1]\n"
          ]
        }
      ]
    },
    {
      "cell_type": "code",
      "source": [
        "BoW_ls"
      ],
      "metadata": {
        "colab": {
          "base_uri": "https://localhost:8080/"
        },
        "id": "N6Y1Sokj8jlm",
        "outputId": "9e304d30-52fb-48cf-ed12-97bd97478011"
      },
      "execution_count": 13,
      "outputs": [
        {
          "output_type": "execute_result",
          "data": {
            "text/plain": [
              "[[1, 1, 2, 1, 1, 1, 1, 1, 0], [1, 1, 0, 0, 0, 1, 0, 1, 1]]"
            ]
          },
          "metadata": {},
          "execution_count": 13
        }
      ]
    },
    {
      "cell_type": "code",
      "source": [
        "from IPython.core import display as ICD\n",
        "import pandas as pd\n",
        "sorted_vocab = sorted((value, key) for key, value in word2id.items())\n",
        "print('sorted_vocab', sorted_vocab)\n",
        "\n",
        "vocab = []\n",
        "for v in sorted_vocab:\n",
        "    vocab.append(v[1]) # (0, '오늘') '오늘' : tuple index#1\n",
        "print('vocab', vocab)\n",
        "for i in range(len(docs)) :\n",
        "    print(\"문서{} : {}\".format(i, docs[i]))\n",
        "    ICD.display(pd.DataFrame([BoW_ls[i]], columns=vocab))\n",
        "    print('\\n\\n')\n"
      ],
      "metadata": {
        "colab": {
          "base_uri": "https://localhost:8080/",
          "height": 346
        },
        "id": "gDGo4WE_8jiM",
        "outputId": "02b0e7a7-5159-4f92-b081-7c37e625202c"
      },
      "execution_count": 15,
      "outputs": [
        {
          "output_type": "stream",
          "name": "stdout",
          "text": [
            "sorted_vocab [(0, '오늘'), (1, '동물원에서'), (2, '코끼리'), (3, '원숭이를'), (4, '보고'), (5, '원숭이에게'), (6, '먹이를'), (7, '줬어'), (8, '사과를')]\n",
            "vocab ['오늘', '동물원에서', '코끼리', '원숭이를', '보고', '원숭이에게', '먹이를', '줬어', '사과를']\n",
            "문서0 : 오늘 동물원에서 코끼리 원숭이를 보고 코끼리 원숭이에게 먹이를 줬어\n"
          ]
        },
        {
          "output_type": "display_data",
          "data": {
            "text/plain": [
              "   오늘  동물원에서  코끼리  원숭이를  보고  원숭이에게  먹이를  줬어  사과를\n",
              "0   1      1    2     1   1      1    1   1    0"
            ],
            "text/html": [
              "\n",
              "  <div id=\"df-f76553bf-b315-4a85-86fa-5f4e3f1e034b\" class=\"colab-df-container\">\n",
              "    <div>\n",
              "<style scoped>\n",
              "    .dataframe tbody tr th:only-of-type {\n",
              "        vertical-align: middle;\n",
              "    }\n",
              "\n",
              "    .dataframe tbody tr th {\n",
              "        vertical-align: top;\n",
              "    }\n",
              "\n",
              "    .dataframe thead th {\n",
              "        text-align: right;\n",
              "    }\n",
              "</style>\n",
              "<table border=\"1\" class=\"dataframe\">\n",
              "  <thead>\n",
              "    <tr style=\"text-align: right;\">\n",
              "      <th></th>\n",
              "      <th>오늘</th>\n",
              "      <th>동물원에서</th>\n",
              "      <th>코끼리</th>\n",
              "      <th>원숭이를</th>\n",
              "      <th>보고</th>\n",
              "      <th>원숭이에게</th>\n",
              "      <th>먹이를</th>\n",
              "      <th>줬어</th>\n",
              "      <th>사과를</th>\n",
              "    </tr>\n",
              "  </thead>\n",
              "  <tbody>\n",
              "    <tr>\n",
              "      <th>0</th>\n",
              "      <td>1</td>\n",
              "      <td>1</td>\n",
              "      <td>2</td>\n",
              "      <td>1</td>\n",
              "      <td>1</td>\n",
              "      <td>1</td>\n",
              "      <td>1</td>\n",
              "      <td>1</td>\n",
              "      <td>0</td>\n",
              "    </tr>\n",
              "  </tbody>\n",
              "</table>\n",
              "</div>\n",
              "    <div class=\"colab-df-buttons\">\n",
              "\n",
              "  <div class=\"colab-df-container\">\n",
              "    <button class=\"colab-df-convert\" onclick=\"convertToInteractive('df-f76553bf-b315-4a85-86fa-5f4e3f1e034b')\"\n",
              "            title=\"Convert this dataframe to an interactive table.\"\n",
              "            style=\"display:none;\">\n",
              "\n",
              "  <svg xmlns=\"http://www.w3.org/2000/svg\" height=\"24px\" viewBox=\"0 -960 960 960\">\n",
              "    <path d=\"M120-120v-720h720v720H120Zm60-500h600v-160H180v160Zm220 220h160v-160H400v160Zm0 220h160v-160H400v160ZM180-400h160v-160H180v160Zm440 0h160v-160H620v160ZM180-180h160v-160H180v160Zm440 0h160v-160H620v160Z\"/>\n",
              "  </svg>\n",
              "    </button>\n",
              "\n",
              "  <style>\n",
              "    .colab-df-container {\n",
              "      display:flex;\n",
              "      gap: 12px;\n",
              "    }\n",
              "\n",
              "    .colab-df-convert {\n",
              "      background-color: #E8F0FE;\n",
              "      border: none;\n",
              "      border-radius: 50%;\n",
              "      cursor: pointer;\n",
              "      display: none;\n",
              "      fill: #1967D2;\n",
              "      height: 32px;\n",
              "      padding: 0 0 0 0;\n",
              "      width: 32px;\n",
              "    }\n",
              "\n",
              "    .colab-df-convert:hover {\n",
              "      background-color: #E2EBFA;\n",
              "      box-shadow: 0px 1px 2px rgba(60, 64, 67, 0.3), 0px 1px 3px 1px rgba(60, 64, 67, 0.15);\n",
              "      fill: #174EA6;\n",
              "    }\n",
              "\n",
              "    .colab-df-buttons div {\n",
              "      margin-bottom: 4px;\n",
              "    }\n",
              "\n",
              "    [theme=dark] .colab-df-convert {\n",
              "      background-color: #3B4455;\n",
              "      fill: #D2E3FC;\n",
              "    }\n",
              "\n",
              "    [theme=dark] .colab-df-convert:hover {\n",
              "      background-color: #434B5C;\n",
              "      box-shadow: 0px 1px 3px 1px rgba(0, 0, 0, 0.15);\n",
              "      filter: drop-shadow(0px 1px 2px rgba(0, 0, 0, 0.3));\n",
              "      fill: #FFFFFF;\n",
              "    }\n",
              "  </style>\n",
              "\n",
              "    <script>\n",
              "      const buttonEl =\n",
              "        document.querySelector('#df-f76553bf-b315-4a85-86fa-5f4e3f1e034b button.colab-df-convert');\n",
              "      buttonEl.style.display =\n",
              "        google.colab.kernel.accessAllowed ? 'block' : 'none';\n",
              "\n",
              "      async function convertToInteractive(key) {\n",
              "        const element = document.querySelector('#df-f76553bf-b315-4a85-86fa-5f4e3f1e034b');\n",
              "        const dataTable =\n",
              "          await google.colab.kernel.invokeFunction('convertToInteractive',\n",
              "                                                    [key], {});\n",
              "        if (!dataTable) return;\n",
              "\n",
              "        const docLinkHtml = 'Like what you see? Visit the ' +\n",
              "          '<a target=\"_blank\" href=https://colab.research.google.com/notebooks/data_table.ipynb>data table notebook</a>'\n",
              "          + ' to learn more about interactive tables.';\n",
              "        element.innerHTML = '';\n",
              "        dataTable['output_type'] = 'display_data';\n",
              "        await google.colab.output.renderOutput(dataTable, element);\n",
              "        const docLink = document.createElement('div');\n",
              "        docLink.innerHTML = docLinkHtml;\n",
              "        element.appendChild(docLink);\n",
              "      }\n",
              "    </script>\n",
              "  </div>\n",
              "\n",
              "    </div>\n",
              "  </div>\n"
            ]
          },
          "metadata": {}
        },
        {
          "output_type": "stream",
          "name": "stdout",
          "text": [
            "\n",
            "\n",
            "\n",
            "문서1 : 오늘 동물원에서 원숭이에게 사과를 줬어\n"
          ]
        },
        {
          "output_type": "display_data",
          "data": {
            "text/plain": [
              "   오늘  동물원에서  코끼리  원숭이를  보고  원숭이에게  먹이를  줬어  사과를\n",
              "0   1      1    0     0   0      1    0   1    1"
            ],
            "text/html": [
              "\n",
              "  <div id=\"df-ec79cf54-39e5-4f81-9ceb-44985f8d5cbe\" class=\"colab-df-container\">\n",
              "    <div>\n",
              "<style scoped>\n",
              "    .dataframe tbody tr th:only-of-type {\n",
              "        vertical-align: middle;\n",
              "    }\n",
              "\n",
              "    .dataframe tbody tr th {\n",
              "        vertical-align: top;\n",
              "    }\n",
              "\n",
              "    .dataframe thead th {\n",
              "        text-align: right;\n",
              "    }\n",
              "</style>\n",
              "<table border=\"1\" class=\"dataframe\">\n",
              "  <thead>\n",
              "    <tr style=\"text-align: right;\">\n",
              "      <th></th>\n",
              "      <th>오늘</th>\n",
              "      <th>동물원에서</th>\n",
              "      <th>코끼리</th>\n",
              "      <th>원숭이를</th>\n",
              "      <th>보고</th>\n",
              "      <th>원숭이에게</th>\n",
              "      <th>먹이를</th>\n",
              "      <th>줬어</th>\n",
              "      <th>사과를</th>\n",
              "    </tr>\n",
              "  </thead>\n",
              "  <tbody>\n",
              "    <tr>\n",
              "      <th>0</th>\n",
              "      <td>1</td>\n",
              "      <td>1</td>\n",
              "      <td>0</td>\n",
              "      <td>0</td>\n",
              "      <td>0</td>\n",
              "      <td>1</td>\n",
              "      <td>0</td>\n",
              "      <td>1</td>\n",
              "      <td>1</td>\n",
              "    </tr>\n",
              "  </tbody>\n",
              "</table>\n",
              "</div>\n",
              "    <div class=\"colab-df-buttons\">\n",
              "\n",
              "  <div class=\"colab-df-container\">\n",
              "    <button class=\"colab-df-convert\" onclick=\"convertToInteractive('df-ec79cf54-39e5-4f81-9ceb-44985f8d5cbe')\"\n",
              "            title=\"Convert this dataframe to an interactive table.\"\n",
              "            style=\"display:none;\">\n",
              "\n",
              "  <svg xmlns=\"http://www.w3.org/2000/svg\" height=\"24px\" viewBox=\"0 -960 960 960\">\n",
              "    <path d=\"M120-120v-720h720v720H120Zm60-500h600v-160H180v160Zm220 220h160v-160H400v160Zm0 220h160v-160H400v160ZM180-400h160v-160H180v160Zm440 0h160v-160H620v160ZM180-180h160v-160H180v160Zm440 0h160v-160H620v160Z\"/>\n",
              "  </svg>\n",
              "    </button>\n",
              "\n",
              "  <style>\n",
              "    .colab-df-container {\n",
              "      display:flex;\n",
              "      gap: 12px;\n",
              "    }\n",
              "\n",
              "    .colab-df-convert {\n",
              "      background-color: #E8F0FE;\n",
              "      border: none;\n",
              "      border-radius: 50%;\n",
              "      cursor: pointer;\n",
              "      display: none;\n",
              "      fill: #1967D2;\n",
              "      height: 32px;\n",
              "      padding: 0 0 0 0;\n",
              "      width: 32px;\n",
              "    }\n",
              "\n",
              "    .colab-df-convert:hover {\n",
              "      background-color: #E2EBFA;\n",
              "      box-shadow: 0px 1px 2px rgba(60, 64, 67, 0.3), 0px 1px 3px 1px rgba(60, 64, 67, 0.15);\n",
              "      fill: #174EA6;\n",
              "    }\n",
              "\n",
              "    .colab-df-buttons div {\n",
              "      margin-bottom: 4px;\n",
              "    }\n",
              "\n",
              "    [theme=dark] .colab-df-convert {\n",
              "      background-color: #3B4455;\n",
              "      fill: #D2E3FC;\n",
              "    }\n",
              "\n",
              "    [theme=dark] .colab-df-convert:hover {\n",
              "      background-color: #434B5C;\n",
              "      box-shadow: 0px 1px 3px 1px rgba(0, 0, 0, 0.15);\n",
              "      filter: drop-shadow(0px 1px 2px rgba(0, 0, 0, 0.3));\n",
              "      fill: #FFFFFF;\n",
              "    }\n",
              "  </style>\n",
              "\n",
              "    <script>\n",
              "      const buttonEl =\n",
              "        document.querySelector('#df-ec79cf54-39e5-4f81-9ceb-44985f8d5cbe button.colab-df-convert');\n",
              "      buttonEl.style.display =\n",
              "        google.colab.kernel.accessAllowed ? 'block' : 'none';\n",
              "\n",
              "      async function convertToInteractive(key) {\n",
              "        const element = document.querySelector('#df-ec79cf54-39e5-4f81-9ceb-44985f8d5cbe');\n",
              "        const dataTable =\n",
              "          await google.colab.kernel.invokeFunction('convertToInteractive',\n",
              "                                                    [key], {});\n",
              "        if (!dataTable) return;\n",
              "\n",
              "        const docLinkHtml = 'Like what you see? Visit the ' +\n",
              "          '<a target=\"_blank\" href=https://colab.research.google.com/notebooks/data_table.ipynb>data table notebook</a>'\n",
              "          + ' to learn more about interactive tables.';\n",
              "        element.innerHTML = '';\n",
              "        dataTable['output_type'] = 'display_data';\n",
              "        await google.colab.output.renderOutput(dataTable, element);\n",
              "        const docLink = document.createElement('div');\n",
              "        docLink.innerHTML = docLinkHtml;\n",
              "        element.appendChild(docLink);\n",
              "      }\n",
              "    </script>\n",
              "  </div>\n",
              "\n",
              "    </div>\n",
              "  </div>\n"
            ]
          },
          "metadata": {}
        },
        {
          "output_type": "stream",
          "name": "stdout",
          "text": [
            "\n",
            "\n",
            "\n"
          ]
        }
      ]
    },
    {
      "cell_type": "markdown",
      "source": [
        "# BOW is not considering the order of appearance"
      ],
      "metadata": {
        "id": "EdkNisp9BlOw"
      }
    },
    {
      "cell_type": "code",
      "source": [
        "# docs\n",
        "docs = ['나는 양념 치킨을 좋아해 하지만 후라이드 치킨을 싫어해',\n",
        "            '나는 후라이드 치킨을 좋아해 하지만 양념 치킨을 싫어해']\n",
        "docs"
      ],
      "metadata": {
        "colab": {
          "base_uri": "https://localhost:8080/"
        },
        "id": "qWXygocR8jfv",
        "outputId": "2ac9200d-47c3-4977-a864-72e06fdcf17d"
      },
      "execution_count": 33,
      "outputs": [
        {
          "output_type": "execute_result",
          "data": {
            "text/plain": [
              "['나는 양념 치킨을 좋아해 하지만 후라이드 치킨을 싫어해', '나는 후라이드 치킨을 좋아해 하지만 양념 치킨을 싫어해']"
            ]
          },
          "metadata": {},
          "execution_count": 33
        }
      ]
    },
    {
      "cell_type": "code",
      "source": [
        "# tokenize\n",
        "doc_ls = [doc.split(' ') for doc in docs]\n",
        "doc_ls"
      ],
      "metadata": {
        "colab": {
          "base_uri": "https://localhost:8080/"
        },
        "id": "wvMhm5UQ8jdH",
        "outputId": "068bbab4-268c-499f-e1b5-8a5d990e5b12"
      },
      "execution_count": 34,
      "outputs": [
        {
          "output_type": "execute_result",
          "data": {
            "text/plain": [
              "[['나는', '양념', '치킨을', '좋아해', '하지만', '후라이드', '치킨을', '싫어해'],\n",
              " ['나는', '후라이드', '치킨을', '좋아해', '하지만', '양념', '치킨을', '싫어해']]"
            ]
          },
          "metadata": {},
          "execution_count": 34
        }
      ]
    },
    {
      "cell_type": "code",
      "source": [
        "# empty dictionary for unique tokens\n",
        "\n",
        "from collections import defaultdict  # if dict key's value has not designated, default value is zero\n",
        "\n",
        "word2id = defaultdict(lambda : len(word2id)) # generate empty dict\n",
        "# to assign values\n",
        "for doc in doc_ls:      # doc from tokenized doc_ls\n",
        "    for token in doc:   # token from doc0, doc1\n",
        "        word2id[token] # total 7 unique tokens\n",
        "word2id"
      ],
      "metadata": {
        "colab": {
          "base_uri": "https://localhost:8080/"
        },
        "id": "7eDUX3K68jag",
        "outputId": "1539efef-2bf5-46de-fc17-1a404e7ed326"
      },
      "execution_count": 35,
      "outputs": [
        {
          "output_type": "execute_result",
          "data": {
            "text/plain": [
              "defaultdict(<function __main__.<lambda>()>,\n",
              "            {'나는': 0,\n",
              "             '양념': 1,\n",
              "             '치킨을': 2,\n",
              "             '좋아해': 3,\n",
              "             '하지만': 4,\n",
              "             '후라이드': 5,\n",
              "             '싫어해': 6})"
            ]
          },
          "metadata": {},
          "execution_count": 35
        }
      ]
    },
    {
      "cell_type": "code",
      "source": [
        "# double check dictionary value\n",
        "print(word2id['양념'])\n",
        "print(word2id['치킨을'])"
      ],
      "metadata": {
        "colab": {
          "base_uri": "https://localhost:8080/"
        },
        "id": "jgevKplB8jX2",
        "outputId": "6d0cde13-474e-47d8-b8d8-5573bf7c875b"
      },
      "execution_count": 36,
      "outputs": [
        {
          "output_type": "stream",
          "name": "stdout",
          "text": [
            "1\n",
            "2\n"
          ]
        }
      ]
    },
    {
      "cell_type": "code",
      "source": [
        "import numpy as np\n",
        "\n",
        "BoW_is = []\n",
        "for i, doc in enumerate(doc_ls):\n",
        "    bow = np.zeros(len(word2id), dtype=int) # generate array with zeros\n",
        "    for token in doc:\n",
        "        bow[word2id[token]] += 1 # replace zero with token index as per dictionary value and increase +1 if more than 1 in column\n",
        "        print(bow)\n",
        "    print( )\n",
        "    # Bow_ls.append(bow.tolist())\n"
      ],
      "metadata": {
        "colab": {
          "base_uri": "https://localhost:8080/"
        },
        "id": "zOWm0hw5ELc7",
        "outputId": "7228775b-c2c8-445e-861f-8df6c1303587"
      },
      "execution_count": 37,
      "outputs": [
        {
          "output_type": "stream",
          "name": "stdout",
          "text": [
            "[1 0 0 0 0 0 0]\n",
            "[1 1 0 0 0 0 0]\n",
            "[1 1 1 0 0 0 0]\n",
            "[1 1 1 1 0 0 0]\n",
            "[1 1 1 1 1 0 0]\n",
            "[1 1 1 1 1 1 0]\n",
            "[1 1 2 1 1 1 0]\n",
            "[1 1 2 1 1 1 1]\n",
            "\n",
            "[1 0 0 0 0 0 0]\n",
            "[1 0 0 0 0 1 0]\n",
            "[1 0 1 0 0 1 0]\n",
            "[1 0 1 1 0 1 0]\n",
            "[1 0 1 1 1 1 0]\n",
            "[1 1 1 1 1 1 0]\n",
            "[1 1 2 1 1 1 0]\n",
            "[1 1 2 1 1 1 1]\n",
            "\n"
          ]
        }
      ]
    },
    {
      "cell_type": "code",
      "source": [
        "import numpy as np\n",
        "\n",
        "BoW_ls = []\n",
        "for i, doc in enumerate(doc_ls):\n",
        "    bow = np.zeros(len(word2id), dtype=int)\n",
        "    for token in doc:\n",
        "        bow[word2id[token]] += 1\n",
        "    BoW_ls.append(bow.tolist())"
      ],
      "metadata": {
        "id": "37OipW01ELae"
      },
      "execution_count": 38,
      "outputs": []
    },
    {
      "cell_type": "code",
      "source": [
        "BoW_ls"
      ],
      "metadata": {
        "colab": {
          "base_uri": "https://localhost:8080/"
        },
        "id": "cHi7vCtFELX9",
        "outputId": "9018a422-5950-4e6c-bec6-21a7cc0dfe64"
      },
      "execution_count": 39,
      "outputs": [
        {
          "output_type": "execute_result",
          "data": {
            "text/plain": [
              "[[1, 1, 2, 1, 1, 1, 1], [1, 1, 2, 1, 1, 1, 1]]"
            ]
          },
          "metadata": {},
          "execution_count": 39
        }
      ]
    },
    {
      "cell_type": "code",
      "source": [
        "import numpy as np\n",
        "\n",
        "BoW_ls = []\n",
        "for i, doc in enumerate(doc_ls):\n",
        "    bow = np.zeros(len(word2id), dtype=int)\n",
        "    for token in doc:\n",
        "        bow[word2id[token]] += 1\n",
        "    BoW_ls.append(bow.tolist())\n",
        "\n",
        "BoW_ls"
      ],
      "metadata": {
        "colab": {
          "base_uri": "https://localhost:8080/"
        },
        "id": "ek4W3kqZELVT",
        "outputId": "c3e9e73e-cd44-45c3-e631-1ceb5371f3cd"
      },
      "execution_count": 40,
      "outputs": [
        {
          "output_type": "execute_result",
          "data": {
            "text/plain": [
              "[[1, 1, 2, 1, 1, 1, 1], [1, 1, 2, 1, 1, 1, 1]]"
            ]
          },
          "metadata": {},
          "execution_count": 40
        }
      ]
    },
    {
      "cell_type": "markdown",
      "source": [
        "# sklearn"
      ],
      "metadata": {
        "id": "XL5EJJr4Kjj3"
      }
    },
    {
      "cell_type": "code",
      "source": [
        "docs = ['오늘 동물원에서 코끼리 원숭이를 보고 코끼리 원숭이에게 먹이를 줬어',\n",
        "            '오늘 동물원에서 코끼리 원숭이를 보고 코끼리 원숭이에게 먹이를 줬어 오늘 동물원에서 원숭이에게 사과를 줬어']"
      ],
      "metadata": {
        "id": "tmpqXqT5ELTH"
      },
      "execution_count": 41,
      "outputs": []
    },
    {
      "cell_type": "code",
      "source": [
        "# count token frequency : CountVectorizer\n",
        "from sklearn.feature_extraction.text import CountVectorizer\n",
        "\n",
        "# declaration\n",
        "count_vect = CountVectorizer()\n",
        "\n",
        "BoW = count_vect.fit_transform(docs)\n",
        "BoW.toarray()"
      ],
      "metadata": {
        "colab": {
          "base_uri": "https://localhost:8080/"
        },
        "id": "5MjiJAqPK-Nw",
        "outputId": "23538e4b-2831-4d88-df7e-b2c2036411d5"
      },
      "execution_count": 47,
      "outputs": [
        {
          "output_type": "execute_result",
          "data": {
            "text/plain": [
              "array([[1, 1, 1, 0, 1, 1, 1, 1, 2],\n",
              "       [2, 1, 1, 1, 2, 1, 2, 2, 2]])"
            ]
          },
          "metadata": {},
          "execution_count": 47
        }
      ]
    },
    {
      "cell_type": "code",
      "source": [
        "from IPython.core import display as ICD\n",
        "\n",
        "vocab = count_vect.get_feature_names_out()      # to indicate as col names\n",
        "for i in range(len(docs)):                                     # repeat 2times\n",
        "    print(\"문서{} : {}\".format(i, docs[i]))               # docs[0], docs[1]\n",
        "    ICD.display(pd.DataFrame([BoW.toarray()[i]], columns=vocab)) # BoW array[0], BoW array[1]\n",
        "    print('\\n\\n')"
      ],
      "metadata": {
        "colab": {
          "base_uri": "https://localhost:8080/",
          "height": 309
        },
        "id": "Yt1PE2XVK-Lc",
        "outputId": "26c7316b-e6e3-49de-8b3c-112be37aca7e"
      },
      "execution_count": 48,
      "outputs": [
        {
          "output_type": "stream",
          "name": "stdout",
          "text": [
            "문서0 : 오늘 동물원에서 코끼리 원숭이를 보고 코끼리 원숭이에게 먹이를 줬어\n"
          ]
        },
        {
          "output_type": "display_data",
          "data": {
            "text/plain": [
              "   동물원에서  먹이를  보고  사과를  오늘  원숭이를  원숭이에게  줬어  코끼리\n",
              "0      1    1   1    0   1     1      1   1    2"
            ],
            "text/html": [
              "\n",
              "  <div id=\"df-7b867482-b0ab-4a9e-b5bd-cc0f71961a39\" class=\"colab-df-container\">\n",
              "    <div>\n",
              "<style scoped>\n",
              "    .dataframe tbody tr th:only-of-type {\n",
              "        vertical-align: middle;\n",
              "    }\n",
              "\n",
              "    .dataframe tbody tr th {\n",
              "        vertical-align: top;\n",
              "    }\n",
              "\n",
              "    .dataframe thead th {\n",
              "        text-align: right;\n",
              "    }\n",
              "</style>\n",
              "<table border=\"1\" class=\"dataframe\">\n",
              "  <thead>\n",
              "    <tr style=\"text-align: right;\">\n",
              "      <th></th>\n",
              "      <th>동물원에서</th>\n",
              "      <th>먹이를</th>\n",
              "      <th>보고</th>\n",
              "      <th>사과를</th>\n",
              "      <th>오늘</th>\n",
              "      <th>원숭이를</th>\n",
              "      <th>원숭이에게</th>\n",
              "      <th>줬어</th>\n",
              "      <th>코끼리</th>\n",
              "    </tr>\n",
              "  </thead>\n",
              "  <tbody>\n",
              "    <tr>\n",
              "      <th>0</th>\n",
              "      <td>1</td>\n",
              "      <td>1</td>\n",
              "      <td>1</td>\n",
              "      <td>0</td>\n",
              "      <td>1</td>\n",
              "      <td>1</td>\n",
              "      <td>1</td>\n",
              "      <td>1</td>\n",
              "      <td>2</td>\n",
              "    </tr>\n",
              "  </tbody>\n",
              "</table>\n",
              "</div>\n",
              "    <div class=\"colab-df-buttons\">\n",
              "\n",
              "  <div class=\"colab-df-container\">\n",
              "    <button class=\"colab-df-convert\" onclick=\"convertToInteractive('df-7b867482-b0ab-4a9e-b5bd-cc0f71961a39')\"\n",
              "            title=\"Convert this dataframe to an interactive table.\"\n",
              "            style=\"display:none;\">\n",
              "\n",
              "  <svg xmlns=\"http://www.w3.org/2000/svg\" height=\"24px\" viewBox=\"0 -960 960 960\">\n",
              "    <path d=\"M120-120v-720h720v720H120Zm60-500h600v-160H180v160Zm220 220h160v-160H400v160Zm0 220h160v-160H400v160ZM180-400h160v-160H180v160Zm440 0h160v-160H620v160ZM180-180h160v-160H180v160Zm440 0h160v-160H620v160Z\"/>\n",
              "  </svg>\n",
              "    </button>\n",
              "\n",
              "  <style>\n",
              "    .colab-df-container {\n",
              "      display:flex;\n",
              "      gap: 12px;\n",
              "    }\n",
              "\n",
              "    .colab-df-convert {\n",
              "      background-color: #E8F0FE;\n",
              "      border: none;\n",
              "      border-radius: 50%;\n",
              "      cursor: pointer;\n",
              "      display: none;\n",
              "      fill: #1967D2;\n",
              "      height: 32px;\n",
              "      padding: 0 0 0 0;\n",
              "      width: 32px;\n",
              "    }\n",
              "\n",
              "    .colab-df-convert:hover {\n",
              "      background-color: #E2EBFA;\n",
              "      box-shadow: 0px 1px 2px rgba(60, 64, 67, 0.3), 0px 1px 3px 1px rgba(60, 64, 67, 0.15);\n",
              "      fill: #174EA6;\n",
              "    }\n",
              "\n",
              "    .colab-df-buttons div {\n",
              "      margin-bottom: 4px;\n",
              "    }\n",
              "\n",
              "    [theme=dark] .colab-df-convert {\n",
              "      background-color: #3B4455;\n",
              "      fill: #D2E3FC;\n",
              "    }\n",
              "\n",
              "    [theme=dark] .colab-df-convert:hover {\n",
              "      background-color: #434B5C;\n",
              "      box-shadow: 0px 1px 3px 1px rgba(0, 0, 0, 0.15);\n",
              "      filter: drop-shadow(0px 1px 2px rgba(0, 0, 0, 0.3));\n",
              "      fill: #FFFFFF;\n",
              "    }\n",
              "  </style>\n",
              "\n",
              "    <script>\n",
              "      const buttonEl =\n",
              "        document.querySelector('#df-7b867482-b0ab-4a9e-b5bd-cc0f71961a39 button.colab-df-convert');\n",
              "      buttonEl.style.display =\n",
              "        google.colab.kernel.accessAllowed ? 'block' : 'none';\n",
              "\n",
              "      async function convertToInteractive(key) {\n",
              "        const element = document.querySelector('#df-7b867482-b0ab-4a9e-b5bd-cc0f71961a39');\n",
              "        const dataTable =\n",
              "          await google.colab.kernel.invokeFunction('convertToInteractive',\n",
              "                                                    [key], {});\n",
              "        if (!dataTable) return;\n",
              "\n",
              "        const docLinkHtml = 'Like what you see? Visit the ' +\n",
              "          '<a target=\"_blank\" href=https://colab.research.google.com/notebooks/data_table.ipynb>data table notebook</a>'\n",
              "          + ' to learn more about interactive tables.';\n",
              "        element.innerHTML = '';\n",
              "        dataTable['output_type'] = 'display_data';\n",
              "        await google.colab.output.renderOutput(dataTable, element);\n",
              "        const docLink = document.createElement('div');\n",
              "        docLink.innerHTML = docLinkHtml;\n",
              "        element.appendChild(docLink);\n",
              "      }\n",
              "    </script>\n",
              "  </div>\n",
              "\n",
              "    </div>\n",
              "  </div>\n"
            ]
          },
          "metadata": {}
        },
        {
          "output_type": "stream",
          "name": "stdout",
          "text": [
            "\n",
            "\n",
            "\n",
            "문서1 : 오늘 동물원에서 코끼리 원숭이를 보고 코끼리 원숭이에게 먹이를 줬어 오늘 동물원에서 원숭이에게 사과를 줬어\n"
          ]
        },
        {
          "output_type": "display_data",
          "data": {
            "text/plain": [
              "   동물원에서  먹이를  보고  사과를  오늘  원숭이를  원숭이에게  줬어  코끼리\n",
              "0      2    1   1    1   2     1      2   2    2"
            ],
            "text/html": [
              "\n",
              "  <div id=\"df-627413b0-2dbf-40e1-9c65-149189fa0136\" class=\"colab-df-container\">\n",
              "    <div>\n",
              "<style scoped>\n",
              "    .dataframe tbody tr th:only-of-type {\n",
              "        vertical-align: middle;\n",
              "    }\n",
              "\n",
              "    .dataframe tbody tr th {\n",
              "        vertical-align: top;\n",
              "    }\n",
              "\n",
              "    .dataframe thead th {\n",
              "        text-align: right;\n",
              "    }\n",
              "</style>\n",
              "<table border=\"1\" class=\"dataframe\">\n",
              "  <thead>\n",
              "    <tr style=\"text-align: right;\">\n",
              "      <th></th>\n",
              "      <th>동물원에서</th>\n",
              "      <th>먹이를</th>\n",
              "      <th>보고</th>\n",
              "      <th>사과를</th>\n",
              "      <th>오늘</th>\n",
              "      <th>원숭이를</th>\n",
              "      <th>원숭이에게</th>\n",
              "      <th>줬어</th>\n",
              "      <th>코끼리</th>\n",
              "    </tr>\n",
              "  </thead>\n",
              "  <tbody>\n",
              "    <tr>\n",
              "      <th>0</th>\n",
              "      <td>2</td>\n",
              "      <td>1</td>\n",
              "      <td>1</td>\n",
              "      <td>1</td>\n",
              "      <td>2</td>\n",
              "      <td>1</td>\n",
              "      <td>2</td>\n",
              "      <td>2</td>\n",
              "      <td>2</td>\n",
              "    </tr>\n",
              "  </tbody>\n",
              "</table>\n",
              "</div>\n",
              "    <div class=\"colab-df-buttons\">\n",
              "\n",
              "  <div class=\"colab-df-container\">\n",
              "    <button class=\"colab-df-convert\" onclick=\"convertToInteractive('df-627413b0-2dbf-40e1-9c65-149189fa0136')\"\n",
              "            title=\"Convert this dataframe to an interactive table.\"\n",
              "            style=\"display:none;\">\n",
              "\n",
              "  <svg xmlns=\"http://www.w3.org/2000/svg\" height=\"24px\" viewBox=\"0 -960 960 960\">\n",
              "    <path d=\"M120-120v-720h720v720H120Zm60-500h600v-160H180v160Zm220 220h160v-160H400v160Zm0 220h160v-160H400v160ZM180-400h160v-160H180v160Zm440 0h160v-160H620v160ZM180-180h160v-160H180v160Zm440 0h160v-160H620v160Z\"/>\n",
              "  </svg>\n",
              "    </button>\n",
              "\n",
              "  <style>\n",
              "    .colab-df-container {\n",
              "      display:flex;\n",
              "      gap: 12px;\n",
              "    }\n",
              "\n",
              "    .colab-df-convert {\n",
              "      background-color: #E8F0FE;\n",
              "      border: none;\n",
              "      border-radius: 50%;\n",
              "      cursor: pointer;\n",
              "      display: none;\n",
              "      fill: #1967D2;\n",
              "      height: 32px;\n",
              "      padding: 0 0 0 0;\n",
              "      width: 32px;\n",
              "    }\n",
              "\n",
              "    .colab-df-convert:hover {\n",
              "      background-color: #E2EBFA;\n",
              "      box-shadow: 0px 1px 2px rgba(60, 64, 67, 0.3), 0px 1px 3px 1px rgba(60, 64, 67, 0.15);\n",
              "      fill: #174EA6;\n",
              "    }\n",
              "\n",
              "    .colab-df-buttons div {\n",
              "      margin-bottom: 4px;\n",
              "    }\n",
              "\n",
              "    [theme=dark] .colab-df-convert {\n",
              "      background-color: #3B4455;\n",
              "      fill: #D2E3FC;\n",
              "    }\n",
              "\n",
              "    [theme=dark] .colab-df-convert:hover {\n",
              "      background-color: #434B5C;\n",
              "      box-shadow: 0px 1px 3px 1px rgba(0, 0, 0, 0.15);\n",
              "      filter: drop-shadow(0px 1px 2px rgba(0, 0, 0, 0.3));\n",
              "      fill: #FFFFFF;\n",
              "    }\n",
              "  </style>\n",
              "\n",
              "    <script>\n",
              "      const buttonEl =\n",
              "        document.querySelector('#df-627413b0-2dbf-40e1-9c65-149189fa0136 button.colab-df-convert');\n",
              "      buttonEl.style.display =\n",
              "        google.colab.kernel.accessAllowed ? 'block' : 'none';\n",
              "\n",
              "      async function convertToInteractive(key) {\n",
              "        const element = document.querySelector('#df-627413b0-2dbf-40e1-9c65-149189fa0136');\n",
              "        const dataTable =\n",
              "          await google.colab.kernel.invokeFunction('convertToInteractive',\n",
              "                                                    [key], {});\n",
              "        if (!dataTable) return;\n",
              "\n",
              "        const docLinkHtml = 'Like what you see? Visit the ' +\n",
              "          '<a target=\"_blank\" href=https://colab.research.google.com/notebooks/data_table.ipynb>data table notebook</a>'\n",
              "          + ' to learn more about interactive tables.';\n",
              "        element.innerHTML = '';\n",
              "        dataTable['output_type'] = 'display_data';\n",
              "        await google.colab.output.renderOutput(dataTable, element);\n",
              "        const docLink = document.createElement('div');\n",
              "        docLink.innerHTML = docLinkHtml;\n",
              "        element.appendChild(docLink);\n",
              "      }\n",
              "    </script>\n",
              "  </div>\n",
              "\n",
              "    </div>\n",
              "  </div>\n"
            ]
          },
          "metadata": {}
        },
        {
          "output_type": "stream",
          "name": "stdout",
          "text": [
            "\n",
            "\n",
            "\n"
          ]
        }
      ]
    },
    {
      "cell_type": "markdown",
      "source": [
        "# limits of BoW\n",
        "- it doesn't considerate words' order\n",
        "- Bow is sparse which means waste of vector space and cause of operation inefficiency\n",
        "- word frequency does not mean the importance\n",
        "- preprocessing is very critical"
      ],
      "metadata": {
        "id": "np4u-J26TEhM"
      }
    }
  ]
}
