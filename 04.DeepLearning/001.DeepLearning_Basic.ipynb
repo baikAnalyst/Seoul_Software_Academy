{
  "nbformat": 4,
  "nbformat_minor": 0,
  "metadata": {
    "colab": {
      "provenance": [],
      "authorship_tag": "ABX9TyNm1oBome+eltvhq3VDdGH6",
      "include_colab_link": true
    },
    "kernelspec": {
      "name": "python3",
      "display_name": "Python 3"
    },
    "language_info": {
      "name": "python"
    }
  },
  "cells": [
    {
      "cell_type": "markdown",
      "metadata": {
        "id": "view-in-github",
        "colab_type": "text"
      },
      "source": [
        "<a href=\"https://colab.research.google.com/github/baikAnalyst/Seoul_Software_Academy/blob/main/04.DeepLearning/DeepLearning_Basic.ipynb\" target=\"_parent\"><img src=\"https://colab.research.google.com/assets/colab-badge.svg\" alt=\"Open In Colab\"/></a>"
      ]
    },
    {
      "cell_type": "markdown",
      "source": [
        "# 01. linear regression modeling"
      ],
      "metadata": {
        "id": "w--GtaUWgHuz"
      }
    },
    {
      "cell_type": "code",
      "source": [
        "import numpy as np\n",
        "import matplotlib.pyplot as plt\n",
        "\n",
        "from tensorflow.keras.models import Sequential\n",
        "from tensorflow.keras.layers import Dense\n",
        "\n",
        "X = np.array([2, 4, 6, 8, 10])\n",
        "y = np.array([20, 24, 37, 40, 50])  # 5를 넣었을 때 값 예측해보세요\n",
        "\n",
        "model = Sequential()\n",
        "\n",
        "model.add(Dense(1, input_dim=1, activation = 'linear'))\n",
        "\n",
        "model.compile(loss = 'mse', optimizer = 'sgd', metrics = ['accuracy'])\n",
        "# model.summary()\n",
        "\n",
        "model.fit(X, y, epochs=50)"
      ],
      "metadata": {
        "colab": {
          "base_uri": "https://localhost:8080/"
        },
        "id": "bOZ1B_GBQ-cJ",
        "outputId": "268231c9-f16d-4d3b-bfeb-3bd7031f9f78"
      },
      "execution_count": null,
      "outputs": [
        {
          "output_type": "stream",
          "name": "stdout",
          "text": [
            "Epoch 1/50\n",
            "1/1 [==============================] - 1s 699ms/step - loss: 1691.5481 - accuracy: 0.0000e+00\n",
            "Epoch 2/50\n",
            "1/1 [==============================] - 0s 25ms/step - loss: 41.9058 - accuracy: 0.0000e+00\n",
            "Epoch 3/50\n",
            "1/1 [==============================] - 0s 25ms/step - loss: 24.0684 - accuracy: 0.0000e+00\n",
            "Epoch 4/50\n",
            "1/1 [==============================] - 0s 21ms/step - loss: 23.7358 - accuracy: 0.0000e+00\n",
            "Epoch 5/50\n",
            "1/1 [==============================] - 0s 27ms/step - loss: 23.5920 - accuracy: 0.0000e+00\n",
            "Epoch 6/50\n",
            "1/1 [==============================] - 0s 16ms/step - loss: 23.4512 - accuracy: 0.0000e+00\n",
            "Epoch 7/50\n",
            "1/1 [==============================] - 0s 25ms/step - loss: 23.3114 - accuracy: 0.0000e+00\n",
            "Epoch 8/50\n",
            "1/1 [==============================] - 0s 14ms/step - loss: 23.1727 - accuracy: 0.0000e+00\n",
            "Epoch 9/50\n",
            "1/1 [==============================] - 0s 17ms/step - loss: 23.0349 - accuracy: 0.0000e+00\n",
            "Epoch 10/50\n",
            "1/1 [==============================] - 0s 25ms/step - loss: 22.8981 - accuracy: 0.0000e+00\n",
            "Epoch 11/50\n",
            "1/1 [==============================] - 0s 21ms/step - loss: 22.7623 - accuracy: 0.0000e+00\n",
            "Epoch 12/50\n",
            "1/1 [==============================] - 0s 17ms/step - loss: 22.6274 - accuracy: 0.0000e+00\n",
            "Epoch 13/50\n",
            "1/1 [==============================] - 0s 14ms/step - loss: 22.4935 - accuracy: 0.0000e+00\n",
            "Epoch 14/50\n",
            "1/1 [==============================] - 0s 15ms/step - loss: 22.3606 - accuracy: 0.0000e+00\n",
            "Epoch 15/50\n",
            "1/1 [==============================] - 0s 15ms/step - loss: 22.2286 - accuracy: 0.0000e+00\n",
            "Epoch 16/50\n",
            "1/1 [==============================] - 0s 11ms/step - loss: 22.0975 - accuracy: 0.0000e+00\n",
            "Epoch 17/50\n",
            "1/1 [==============================] - 0s 10ms/step - loss: 21.9674 - accuracy: 0.0000e+00\n",
            "Epoch 18/50\n",
            "1/1 [==============================] - 0s 18ms/step - loss: 21.8383 - accuracy: 0.0000e+00\n",
            "Epoch 19/50\n",
            "1/1 [==============================] - 0s 13ms/step - loss: 21.7100 - accuracy: 0.0000e+00\n",
            "Epoch 20/50\n",
            "1/1 [==============================] - 0s 11ms/step - loss: 21.5826 - accuracy: 0.0000e+00\n",
            "Epoch 21/50\n",
            "1/1 [==============================] - 0s 11ms/step - loss: 21.4562 - accuracy: 0.0000e+00\n",
            "Epoch 22/50\n",
            "1/1 [==============================] - 0s 34ms/step - loss: 21.3306 - accuracy: 0.0000e+00\n",
            "Epoch 23/50\n",
            "1/1 [==============================] - 0s 10ms/step - loss: 21.2060 - accuracy: 0.0000e+00\n",
            "Epoch 24/50\n",
            "1/1 [==============================] - 0s 19ms/step - loss: 21.0822 - accuracy: 0.0000e+00\n",
            "Epoch 25/50\n",
            "1/1 [==============================] - 0s 17ms/step - loss: 20.9593 - accuracy: 0.0000e+00\n",
            "Epoch 26/50\n",
            "1/1 [==============================] - 0s 12ms/step - loss: 20.8373 - accuracy: 0.0000e+00\n",
            "Epoch 27/50\n",
            "1/1 [==============================] - 0s 18ms/step - loss: 20.7162 - accuracy: 0.0000e+00\n",
            "Epoch 28/50\n",
            "1/1 [==============================] - 0s 10ms/step - loss: 20.5959 - accuracy: 0.0000e+00\n",
            "Epoch 29/50\n",
            "1/1 [==============================] - 0s 11ms/step - loss: 20.4765 - accuracy: 0.0000e+00\n",
            "Epoch 30/50\n",
            "1/1 [==============================] - 0s 9ms/step - loss: 20.3580 - accuracy: 0.0000e+00\n",
            "Epoch 31/50\n",
            "1/1 [==============================] - 0s 21ms/step - loss: 20.2402 - accuracy: 0.0000e+00\n",
            "Epoch 32/50\n",
            "1/1 [==============================] - 0s 36ms/step - loss: 20.1234 - accuracy: 0.0000e+00\n",
            "Epoch 33/50\n",
            "1/1 [==============================] - 0s 13ms/step - loss: 20.0073 - accuracy: 0.0000e+00\n",
            "Epoch 34/50\n",
            "1/1 [==============================] - 0s 10ms/step - loss: 19.8921 - accuracy: 0.0000e+00\n",
            "Epoch 35/50\n",
            "1/1 [==============================] - 0s 11ms/step - loss: 19.7777 - accuracy: 0.0000e+00\n",
            "Epoch 36/50\n",
            "1/1 [==============================] - 0s 18ms/step - loss: 19.6641 - accuracy: 0.0000e+00\n",
            "Epoch 37/50\n",
            "1/1 [==============================] - 0s 16ms/step - loss: 19.5513 - accuracy: 0.0000e+00\n",
            "Epoch 38/50\n",
            "1/1 [==============================] - 0s 11ms/step - loss: 19.4394 - accuracy: 0.0000e+00\n",
            "Epoch 39/50\n",
            "1/1 [==============================] - 0s 10ms/step - loss: 19.3282 - accuracy: 0.0000e+00\n",
            "Epoch 40/50\n",
            "1/1 [==============================] - 0s 10ms/step - loss: 19.2178 - accuracy: 0.0000e+00\n",
            "Epoch 41/50\n",
            "1/1 [==============================] - 0s 18ms/step - loss: 19.1082 - accuracy: 0.0000e+00\n",
            "Epoch 42/50\n",
            "1/1 [==============================] - 0s 23ms/step - loss: 18.9994 - accuracy: 0.0000e+00\n",
            "Epoch 43/50\n",
            "1/1 [==============================] - 0s 17ms/step - loss: 18.8914 - accuracy: 0.0000e+00\n",
            "Epoch 44/50\n",
            "1/1 [==============================] - 0s 11ms/step - loss: 18.7841 - accuracy: 0.0000e+00\n",
            "Epoch 45/50\n",
            "1/1 [==============================] - 0s 10ms/step - loss: 18.6776 - accuracy: 0.0000e+00\n",
            "Epoch 46/50\n",
            "1/1 [==============================] - 0s 19ms/step - loss: 18.5719 - accuracy: 0.0000e+00\n",
            "Epoch 47/50\n",
            "1/1 [==============================] - 0s 21ms/step - loss: 18.4669 - accuracy: 0.0000e+00\n",
            "Epoch 48/50\n",
            "1/1 [==============================] - 0s 19ms/step - loss: 18.3626 - accuracy: 0.0000e+00\n",
            "Epoch 49/50\n",
            "1/1 [==============================] - 0s 13ms/step - loss: 18.2591 - accuracy: 0.0000e+00\n",
            "Epoch 50/50\n",
            "1/1 [==============================] - 0s 12ms/step - loss: 18.1564 - accuracy: 0.0000e+00\n"
          ]
        },
        {
          "output_type": "execute_result",
          "data": {
            "text/plain": [
              "<keras.src.callbacks.History at 0x79e1041d33a0>"
            ]
          },
          "metadata": {},
          "execution_count": 7
        }
      ]
    },
    {
      "cell_type": "code",
      "source": [
        "plt.scatter(X, y)\n",
        "plt.plot(X, model.predict(X), 'r')\n",
        "plt.show()"
      ],
      "metadata": {
        "colab": {
          "base_uri": "https://localhost:8080/",
          "height": 448
        },
        "id": "jYYf7xhcQ-Vz",
        "outputId": "c6450ee9-fa2b-42fc-ead2-83fcb89461cd"
      },
      "execution_count": null,
      "outputs": [
        {
          "output_type": "stream",
          "name": "stdout",
          "text": [
            "1/1 [==============================] - 0s 74ms/step\n"
          ]
        },
        {
          "output_type": "display_data",
          "data": {
            "text/plain": [
              "<Figure size 640x480 with 1 Axes>"
            ],
            "image/png": "[encoded data removed]"
          },
          "metadata": {}
        }
      ]
    },
    {
      "cell_type": "code",
      "source": [
        "model.predict([5])"
      ],
      "metadata": {
        "colab": {
          "base_uri": "https://localhost:8080/"
        },
        "id": "nU6dR2XWQ-Ji",
        "outputId": "465d8b28-63e0-4275-b794-64a73beea783"
      },
      "execution_count": null,
      "outputs": [
        {
          "output_type": "stream",
          "name": "stdout",
          "text": [
            "1/1 [==============================] - 0s 168ms/step\n"
          ]
        },
        {
          "output_type": "execute_result",
          "data": {
            "text/plain": [
              "array([[27.611334]], dtype=float32)"
            ]
          },
          "metadata": {},
          "execution_count": 9
        }
      ]
    },
    {
      "cell_type": "markdown",
      "source": [
        "# 02. linear regression modeling"
      ],
      "metadata": {
        "id": "ErFteFE8kAP5"
      }
    },
    {
      "cell_type": "code",
      "source": [
        "import numpy as np\n",
        "import matplotlib.pyplot as plt\n",
        "\n",
        "from tensorflow.keras.models import Sequential\n",
        "from tensorflow.keras.layers import Dense\n",
        "\n",
        "x = np.array([[2,0],[4,5],[6,3],[8,5],[10,7]])\n",
        "y = np.array([20,24,37,40,50])  # [5,7]\n",
        "\n",
        "model = Sequential()\n",
        "\n",
        "model.add(Dense(1, input_dim=2, activation='linear'))\n",
        "\n",
        "model.compile(loss='mse', optimizer='sgd', metrics=['accuracy'])\n",
        "model.fit(x, y, epochs=50)"
      ],
      "metadata": {
        "colab": {
          "base_uri": "https://localhost:8080/"
        },
        "id": "vfPtxJVuT3p1",
        "outputId": "9b8ac8e4-1c75-4fcd-ea39-4d62f1796bf4"
      },
      "execution_count": null,
      "outputs": [
        {
          "output_type": "stream",
          "name": "stdout",
          "text": [
            "Epoch 1/50\n",
            "1/1 [==============================] - 0s 312ms/step - loss: 1694.4098 - accuracy: 0.0000e+00\n",
            "Epoch 2/50\n",
            "1/1 [==============================] - 0s 12ms/step - loss: 209.2835 - accuracy: 0.0000e+00\n",
            "Epoch 3/50\n",
            "1/1 [==============================] - 0s 11ms/step - loss: 69.3263 - accuracy: 0.0000e+00\n",
            "Epoch 4/50\n",
            "1/1 [==============================] - 0s 13ms/step - loss: 54.6926 - accuracy: 0.0000e+00\n",
            "Epoch 5/50\n",
            "1/1 [==============================] - 0s 12ms/step - loss: 51.7974 - accuracy: 0.0000e+00\n",
            "Epoch 6/50\n",
            "1/1 [==============================] - 0s 15ms/step - loss: 50.0616 - accuracy: 0.0000e+00\n",
            "Epoch 7/50\n",
            "1/1 [==============================] - 0s 10ms/step - loss: 48.4970 - accuracy: 0.0000e+00\n",
            "Epoch 8/50\n",
            "1/1 [==============================] - 0s 11ms/step - loss: 47.0087 - accuracy: 0.0000e+00\n",
            "Epoch 9/50\n",
            "1/1 [==============================] - 0s 9ms/step - loss: 45.5851 - accuracy: 0.0000e+00\n",
            "Epoch 10/50\n",
            "1/1 [==============================] - 0s 10ms/step - loss: 44.2226 - accuracy: 0.0000e+00\n",
            "Epoch 11/50\n",
            "1/1 [==============================] - 0s 12ms/step - loss: 42.9183 - accuracy: 0.0000e+00\n",
            "Epoch 12/50\n",
            "1/1 [==============================] - 0s 13ms/step - loss: 41.6695 - accuracy: 0.0000e+00\n",
            "Epoch 13/50\n",
            "1/1 [==============================] - 0s 14ms/step - loss: 40.4736 - accuracy: 0.0000e+00\n",
            "Epoch 14/50\n",
            "1/1 [==============================] - 0s 16ms/step - loss: 39.3284 - accuracy: 0.0000e+00\n",
            "Epoch 15/50\n",
            "1/1 [==============================] - 0s 12ms/step - loss: 38.2315 - accuracy: 0.0000e+00\n",
            "Epoch 16/50\n",
            "1/1 [==============================] - 0s 10ms/step - loss: 37.1806 - accuracy: 0.0000e+00\n",
            "Epoch 17/50\n",
            "1/1 [==============================] - 0s 14ms/step - loss: 36.1738 - accuracy: 0.0000e+00\n",
            "Epoch 18/50\n",
            "1/1 [==============================] - 0s 13ms/step - loss: 35.2089 - accuracy: 0.0000e+00\n",
            "Epoch 19/50\n",
            "1/1 [==============================] - 0s 13ms/step - loss: 34.2842 - accuracy: 0.0000e+00\n",
            "Epoch 20/50\n",
            "1/1 [==============================] - 0s 14ms/step - loss: 33.3977 - accuracy: 0.0000e+00\n",
            "Epoch 21/50\n",
            "1/1 [==============================] - 0s 12ms/step - loss: 32.5478 - accuracy: 0.0000e+00\n",
            "Epoch 22/50\n",
            "1/1 [==============================] - 0s 10ms/step - loss: 31.7327 - accuracy: 0.0000e+00\n",
            "Epoch 23/50\n",
            "1/1 [==============================] - 0s 9ms/step - loss: 30.9510 - accuracy: 0.0000e+00\n",
            "Epoch 24/50\n",
            "1/1 [==============================] - 0s 14ms/step - loss: 30.2010 - accuracy: 0.0000e+00\n",
            "Epoch 25/50\n",
            "1/1 [==============================] - 0s 12ms/step - loss: 29.4815 - accuracy: 0.0000e+00\n",
            "Epoch 26/50\n",
            "1/1 [==============================] - 0s 12ms/step - loss: 28.7909 - accuracy: 0.0000e+00\n",
            "Epoch 27/50\n",
            "1/1 [==============================] - 0s 12ms/step - loss: 28.1280 - accuracy: 0.0000e+00\n",
            "Epoch 28/50\n",
            "1/1 [==============================] - 0s 12ms/step - loss: 27.4916 - accuracy: 0.0000e+00\n",
            "Epoch 29/50\n",
            "1/1 [==============================] - 0s 12ms/step - loss: 26.8804 - accuracy: 0.0000e+00\n",
            "Epoch 30/50\n",
            "1/1 [==============================] - 0s 11ms/step - loss: 26.2933 - accuracy: 0.0000e+00\n",
            "Epoch 31/50\n",
            "1/1 [==============================] - 0s 10ms/step - loss: 25.7293 - accuracy: 0.0000e+00\n",
            "Epoch 32/50\n",
            "1/1 [==============================] - 0s 12ms/step - loss: 25.1873 - accuracy: 0.0000e+00\n",
            "Epoch 33/50\n",
            "1/1 [==============================] - 0s 14ms/step - loss: 24.6663 - accuracy: 0.0000e+00\n",
            "Epoch 34/50\n",
            "1/1 [==============================] - 0s 11ms/step - loss: 24.1653 - accuracy: 0.0000e+00\n",
            "Epoch 35/50\n",
            "1/1 [==============================] - 0s 11ms/step - loss: 23.6835 - accuracy: 0.0000e+00\n",
            "Epoch 36/50\n",
            "1/1 [==============================] - 0s 11ms/step - loss: 23.2201 - accuracy: 0.0000e+00\n",
            "Epoch 37/50\n",
            "1/1 [==============================] - 0s 9ms/step - loss: 22.7741 - accuracy: 0.0000e+00\n",
            "Epoch 38/50\n",
            "1/1 [==============================] - 0s 10ms/step - loss: 22.3449 - accuracy: 0.0000e+00\n",
            "Epoch 39/50\n",
            "1/1 [==============================] - 0s 11ms/step - loss: 21.9317 - accuracy: 0.0000e+00\n",
            "Epoch 40/50\n",
            "1/1 [==============================] - 0s 9ms/step - loss: 21.5337 - accuracy: 0.0000e+00\n",
            "Epoch 41/50\n",
            "1/1 [==============================] - 0s 13ms/step - loss: 21.1503 - accuracy: 0.0000e+00\n",
            "Epoch 42/50\n",
            "1/1 [==============================] - 0s 10ms/step - loss: 20.7808 - accuracy: 0.0000e+00\n",
            "Epoch 43/50\n",
            "1/1 [==============================] - 0s 13ms/step - loss: 20.4247 - accuracy: 0.0000e+00\n",
            "Epoch 44/50\n",
            "1/1 [==============================] - 0s 10ms/step - loss: 20.0814 - accuracy: 0.0000e+00\n",
            "Epoch 45/50\n",
            "1/1 [==============================] - 0s 12ms/step - loss: 19.7502 - accuracy: 0.0000e+00\n",
            "Epoch 46/50\n",
            "1/1 [==============================] - 0s 11ms/step - loss: 19.4306 - accuracy: 0.0000e+00\n",
            "Epoch 47/50\n",
            "1/1 [==============================] - 0s 11ms/step - loss: 19.1222 - accuracy: 0.0000e+00\n",
            "Epoch 48/50\n",
            "1/1 [==============================] - 0s 11ms/step - loss: 18.8244 - accuracy: 0.0000e+00\n",
            "Epoch 49/50\n",
            "1/1 [==============================] - 0s 11ms/step - loss: 18.5368 - accuracy: 0.0000e+00\n",
            "Epoch 50/50\n",
            "1/1 [==============================] - 0s 13ms/step - loss: 18.2589 - accuracy: 0.0000e+00\n"
          ]
        },
        {
          "output_type": "execute_result",
          "data": {
            "text/plain": [
              "<keras.src.callbacks.History at 0x79e1040b6cb0>"
            ]
          },
          "metadata": {},
          "execution_count": 12
        }
      ]
    },
    {
      "cell_type": "code",
      "source": [
        "model.predict([[5,7]])"
      ],
      "metadata": {
        "colab": {
          "base_uri": "https://localhost:8080/"
        },
        "id": "RIxhkyw6T7B2",
        "outputId": "3122eb41-e0ed-4821-d383-2db44769e25c"
      },
      "execution_count": null,
      "outputs": [
        {
          "output_type": "stream",
          "name": "stdout",
          "text": [
            "1/1 [==============================] - 0s 119ms/step\n"
          ]
        },
        {
          "output_type": "execute_result",
          "data": {
            "text/plain": [
              "array([[27.680462]], dtype=float32)"
            ]
          },
          "metadata": {},
          "execution_count": 13
        }
      ]
    },
    {
      "cell_type": "markdown",
      "source": [
        "# 03. logistic regression modeling"
      ],
      "metadata": {
        "id": "ZKpMNdDUlKOs"
      }
    },
    {
      "cell_type": "code",
      "source": [
        "import numpy as np\n",
        "import matplotlib.pyplot as plt\n",
        "\n",
        "from tensorflow.keras.models import Sequential\n",
        "from tensorflow.keras.layers import Dense\n",
        "\n",
        "x = np.array([2, 4, 6, 8, 10, 12])\n",
        "y = np.array([0, 0, 0, 1, 1, 1])\n",
        "\n",
        "model = Sequential()\n",
        "\n",
        "model.add(Dense(1, input_dim=1, activation='sigmoid'))\n",
        "\n",
        "model.compile(loss='binary_crossentropy', optimizer='sgd', metrics = ['accuracy'])\n",
        "model.fit(x, y, epochs=50)"
      ],
      "metadata": {
        "colab": {
          "base_uri": "https://localhost:8080/"
        },
        "id": "mglcp02gT-ZH",
        "outputId": "6a1c0d6e-767e-4af4-f8d7-1a3eecd52a2f"
      },
      "execution_count": null,
      "outputs": [
        {
          "output_type": "stream",
          "name": "stdout",
          "text": [
            "Epoch 1/50\n",
            "1/1 [==============================] - 1s 803ms/step - loss: 1.3406 - accuracy: 0.5000\n",
            "Epoch 2/50\n",
            "1/1 [==============================] - 0s 18ms/step - loss: 1.1870 - accuracy: 0.5000\n",
            "Epoch 3/50\n",
            "1/1 [==============================] - 0s 19ms/step - loss: 1.0551 - accuracy: 0.5000\n",
            "Epoch 4/50\n",
            "1/1 [==============================] - 0s 19ms/step - loss: 0.9465 - accuracy: 0.5000\n",
            "Epoch 5/50\n",
            "1/1 [==============================] - 0s 11ms/step - loss: 0.8606 - accuracy: 0.5000\n",
            "Epoch 6/50\n",
            "1/1 [==============================] - 0s 9ms/step - loss: 0.7952 - accuracy: 0.5000\n",
            "Epoch 7/50\n",
            "1/1 [==============================] - 0s 12ms/step - loss: 0.7468 - accuracy: 0.5000\n",
            "Epoch 8/50\n",
            "1/1 [==============================] - 0s 10ms/step - loss: 0.7116 - accuracy: 0.5000\n",
            "Epoch 9/50\n",
            "1/1 [==============================] - 0s 10ms/step - loss: 0.6862 - accuracy: 0.5000\n",
            "Epoch 10/50\n",
            "1/1 [==============================] - 0s 10ms/step - loss: 0.6680 - accuracy: 0.5000\n",
            "Epoch 11/50\n",
            "1/1 [==============================] - 0s 9ms/step - loss: 0.6548 - accuracy: 0.5000\n",
            "Epoch 12/50\n",
            "1/1 [==============================] - 0s 9ms/step - loss: 0.6452 - accuracy: 0.5000\n",
            "Epoch 13/50\n",
            "1/1 [==============================] - 0s 9ms/step - loss: 0.6381 - accuracy: 0.5000\n",
            "Epoch 14/50\n",
            "1/1 [==============================] - 0s 10ms/step - loss: 0.6329 - accuracy: 0.5000\n",
            "Epoch 15/50\n",
            "1/1 [==============================] - 0s 9ms/step - loss: 0.6290 - accuracy: 0.5000\n",
            "Epoch 16/50\n",
            "1/1 [==============================] - 0s 10ms/step - loss: 0.6260 - accuracy: 0.5000\n",
            "Epoch 17/50\n",
            "1/1 [==============================] - 0s 10ms/step - loss: 0.6237 - accuracy: 0.5000\n",
            "Epoch 18/50\n",
            "1/1 [==============================] - 0s 9ms/step - loss: 0.6219 - accuracy: 0.5000\n",
            "Epoch 19/50\n",
            "1/1 [==============================] - 0s 9ms/step - loss: 0.6204 - accuracy: 0.5000\n",
            "Epoch 20/50\n",
            "1/1 [==============================] - 0s 9ms/step - loss: 0.6193 - accuracy: 0.5000\n",
            "Epoch 21/50\n",
            "1/1 [==============================] - 0s 9ms/step - loss: 0.6183 - accuracy: 0.5000\n",
            "Epoch 22/50\n",
            "1/1 [==============================] - 0s 9ms/step - loss: 0.6176 - accuracy: 0.5000\n",
            "Epoch 23/50\n",
            "1/1 [==============================] - 0s 9ms/step - loss: 0.6169 - accuracy: 0.5000\n",
            "Epoch 24/50\n",
            "1/1 [==============================] - 0s 8ms/step - loss: 0.6163 - accuracy: 0.5000\n",
            "Epoch 25/50\n",
            "1/1 [==============================] - 0s 9ms/step - loss: 0.6158 - accuracy: 0.5000\n",
            "Epoch 26/50\n",
            "1/1 [==============================] - 0s 10ms/step - loss: 0.6153 - accuracy: 0.5000\n",
            "Epoch 27/50\n",
            "1/1 [==============================] - 0s 10ms/step - loss: 0.6149 - accuracy: 0.5000\n",
            "Epoch 28/50\n",
            "1/1 [==============================] - 0s 10ms/step - loss: 0.6145 - accuracy: 0.5000\n",
            "Epoch 29/50\n",
            "1/1 [==============================] - 0s 10ms/step - loss: 0.6141 - accuracy: 0.5000\n",
            "Epoch 30/50\n",
            "1/1 [==============================] - 0s 9ms/step - loss: 0.6137 - accuracy: 0.5000\n",
            "Epoch 31/50\n",
            "1/1 [==============================] - 0s 9ms/step - loss: 0.6134 - accuracy: 0.5000\n",
            "Epoch 32/50\n",
            "1/1 [==============================] - 0s 9ms/step - loss: 0.6131 - accuracy: 0.5000\n",
            "Epoch 33/50\n",
            "1/1 [==============================] - 0s 9ms/step - loss: 0.6127 - accuracy: 0.5000\n",
            "Epoch 34/50\n",
            "1/1 [==============================] - 0s 9ms/step - loss: 0.6124 - accuracy: 0.5000\n",
            "Epoch 35/50\n",
            "1/1 [==============================] - 0s 9ms/step - loss: 0.6121 - accuracy: 0.5000\n",
            "Epoch 36/50\n",
            "1/1 [==============================] - 0s 9ms/step - loss: 0.6118 - accuracy: 0.5000\n",
            "Epoch 37/50\n",
            "1/1 [==============================] - 0s 11ms/step - loss: 0.6115 - accuracy: 0.5000\n",
            "Epoch 38/50\n",
            "1/1 [==============================] - 0s 10ms/step - loss: 0.6112 - accuracy: 0.5000\n",
            "Epoch 39/50\n",
            "1/1 [==============================] - 0s 11ms/step - loss: 0.6109 - accuracy: 0.5000\n",
            "Epoch 40/50\n",
            "1/1 [==============================] - 0s 9ms/step - loss: 0.6106 - accuracy: 0.5000\n",
            "Epoch 41/50\n",
            "1/1 [==============================] - 0s 9ms/step - loss: 0.6103 - accuracy: 0.5000\n",
            "Epoch 42/50\n",
            "1/1 [==============================] - 0s 10ms/step - loss: 0.6099 - accuracy: 0.5000\n",
            "Epoch 43/50\n",
            "1/1 [==============================] - 0s 10ms/step - loss: 0.6096 - accuracy: 0.5000\n",
            "Epoch 44/50\n",
            "1/1 [==============================] - 0s 10ms/step - loss: 0.6093 - accuracy: 0.5000\n",
            "Epoch 45/50\n",
            "1/1 [==============================] - 0s 10ms/step - loss: 0.6090 - accuracy: 0.5000\n",
            "Epoch 46/50\n",
            "1/1 [==============================] - 0s 10ms/step - loss: 0.6087 - accuracy: 0.5000\n",
            "Epoch 47/50\n",
            "1/1 [==============================] - 0s 9ms/step - loss: 0.6085 - accuracy: 0.5000\n",
            "Epoch 48/50\n",
            "1/1 [==============================] - 0s 13ms/step - loss: 0.6082 - accuracy: 0.5000\n",
            "Epoch 49/50\n",
            "1/1 [==============================] - 0s 9ms/step - loss: 0.6079 - accuracy: 0.5000\n",
            "Epoch 50/50\n",
            "1/1 [==============================] - 0s 9ms/step - loss: 0.6076 - accuracy: 0.5000\n"
          ]
        },
        {
          "output_type": "execute_result",
          "data": {
            "text/plain": [
              "<keras.src.callbacks.History at 0x79e10407ef80>"
            ]
          },
          "metadata": {},
          "execution_count": 15
        }
      ]
    },
    {
      "cell_type": "code",
      "source": [
        "print(model.predict([1]))"
      ],
      "metadata": {
        "colab": {
          "base_uri": "https://localhost:8080/"
        },
        "id": "BakTv22KT-WL",
        "outputId": "768b7f0b-8cd9-4d8b-ac16-4a0b0a389cc6"
      },
      "execution_count": null,
      "outputs": [
        {
          "output_type": "stream",
          "name": "stdout",
          "text": [
            "1/1 [==============================] - 0s 66ms/step\n",
            "[[0.5158833]]\n"
          ]
        }
      ]
    },
    {
      "cell_type": "code",
      "source": [
        "print(model.predict([9]))"
      ],
      "metadata": {
        "colab": {
          "base_uri": "https://localhost:8080/"
        },
        "id": "4aJgzFt6T-TB",
        "outputId": "fd743359-5375-41ba-98ff-0a56ae5e9929"
      },
      "execution_count": null,
      "outputs": [
        {
          "output_type": "stream",
          "name": "stdout",
          "text": [
            "1/1 [==============================] - 0s 45ms/step\n",
            "[[0.7227394]]\n"
          ]
        }
      ]
    }
  ]
}
